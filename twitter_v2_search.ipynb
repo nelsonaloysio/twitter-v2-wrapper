{
 "cells": [
  {
   "cell_type": "markdown",
   "source": [
    "# twitter_v2_search"
   ],
   "metadata": {}
  },
  {
   "cell_type": "code",
   "execution_count": null,
   "source": [
    "from twitter_v2_search import Twitter, TwitterSearch"
   ],
   "outputs": [],
   "metadata": {}
  },
  {
   "cell_type": "markdown",
   "source": [
    "### Query parameters (required)\n",
    "\n",
    "Set required `query` parameter. Note that the optional `start_time` and `end_time` parameters must follow **RFC3339** date-time guidelines, e.g.: `2020-12-31T12:59:59+00:00:00`. Alternatively set `since_id` and `until_id` for pagination."
   ],
   "metadata": {}
  },
  {
   "cell_type": "code",
   "execution_count": null,
   "source": [
    "query = \"\"\n",
    "# start_time = \"\"\n",
    "# end_time = \"\""
   ],
   "outputs": [],
   "metadata": {}
  },
  {
   "cell_type": "markdown",
   "source": [
    "#### Twitter v2 API credential (required)\n",
    "\n",
    "Optionally leave unset i.e. as `None` to try and read the `BEARER_TOKEN` variable from `os.environ` (default)."
   ],
   "metadata": {}
  },
  {
   "cell_type": "code",
   "execution_count": null,
   "source": [
    "bearer_token = \"\""
   ],
   "outputs": [],
   "metadata": {}
  },
  {
   "cell_type": "markdown",
   "source": [
    "#### Request data from Twitter\n",
    "\n",
    "Returns a `dict` object from Twitter as-is. Requires manually specifying the `endpoint` URL to request data from."
   ],
   "metadata": {}
  },
  {
   "cell_type": "code",
   "execution_count": null,
   "source": [
    "twitter = TwitterSearch() # Twitter()"
   ],
   "outputs": [],
   "metadata": {}
  },
  {
   "cell_type": "code",
   "execution_count": null,
   "source": [
    "endpoint = \"\" # \"https://api.twitter.com/2/tweets/counts/all\"\n",
    "\n",
    "json_response = twitter.request(\n",
    "    query=query,\n",
    "    endpoint=endpoint,\n",
    "    bearer_token=bearer_token,\n",
    "    # start_time=start_time,\n",
    "    # end_time=end_time,\n",
    ")\n",
    "json_response"
   ],
   "outputs": [],
   "metadata": {}
  },
  {
   "cell_type": "markdown",
   "source": [
    "### Get counts\n",
    "Just get statistics from Twitter. Note that the `start_time` and `end_time` follow **RFC3339** date-time guidelines, e.g.: `2020-12-31T12:59:59+00:00:00`."
   ],
   "metadata": {}
  },
  {
   "cell_type": "code",
   "execution_count": null,
   "source": [
    "json_response = twitter.counts(\n",
    "    query=query,\n",
    "    bearer_token=bearer_token,\n",
    "    start_time=start_time,\n",
    "    end_time=end_time,\n",
    ")\n",
    "json_response"
   ],
   "outputs": [],
   "metadata": {}
  },
  {
   "cell_type": "markdown",
   "source": [
    "#### Example: plot daily time series\n",
    "\n",
    "Requires `matplotlib` and `pandas` libraries installed."
   ],
   "metadata": {}
  },
  {
   "cell_type": "code",
   "execution_count": null,
   "source": [
    "# import pandas as pd\n",
    "# df = pd.json_normalize(json_response[\"data\"])\n",
    "# pd.Series(df[\"tweet_count\"].values.tolist(), index=df[\"start\"].apply(lambda x: x[:10]))\\\n",
    "#   .apply(lambda x: None if x == 0 else x).dropna(how='all')\\\n",
    "#   .plot(kind='line', figsize=(16, 8))\\\n",
    "#   .grid(color='#eee')"
   ],
   "outputs": [],
   "metadata": {}
  },
  {
   "cell_type": "markdown",
   "source": [
    "### Get data from tweets\n",
    "\n",
    "Loop through Twitter and get all available data through pagination with `next_token`."
   ],
   "metadata": {}
  },
  {
   "cell_type": "code",
   "execution_count": null,
   "source": [
    "search_params = {\n",
    "    \"max_results\": 100,\n",
    "    \"expansions\": None,\n",
    "    \"tweet.fields\": None,\n",
    "    \"media.fields\": None,\n",
    "    \"poll.fields\": None,\n",
    "    \"place.fields\": None,\n",
    "    \"user.fields\": None,\n",
    "}"
   ],
   "outputs": [],
   "metadata": {}
  },
  {
   "cell_type": "code",
   "execution_count": null,
   "source": [
    "json_response = twitter.search(\n",
    "    query=query,\n",
    "    bearer_token=bearer_token,\n",
    "    start_time=start_time,\n",
    "    end_time=end_time,\n",
    "    # output_file=\"tweets.json\",\n",
    "    # interval=1,\n",
    "    **search_params,\n",
    ")"
   ],
   "outputs": [],
   "metadata": {}
  },
  {
   "cell_type": "markdown",
   "source": [
    "___\n",
    "\n",
    "### References\n",
    "\n",
    "* https://developer.twitter.com/en/products/twitter-api/academic-research\n",
    "\n",
    "* https://github.com/twitterdev/search-tweets-python/tree/v2\n",
    "\n",
    "* https://github.com/twitterdev/Twitter-API-v2-sample-code/"
   ],
   "metadata": {}
  }
 ],
 "metadata": {
  "kernelspec": {
   "name": "python3",
   "display_name": "Python 3.9.6 64-bit"
  },
  "language_info": {
   "codemirror_mode": {
    "name": "ipython",
    "version": 3
   },
   "file_extension": ".py",
   "mimetype": "text/x-python",
   "name": "python",
   "nbconvert_exporter": "python",
   "pygments_lexer": "ipython3",
   "version": "3.9.6"
  },
  "interpreter": {
   "hash": "49d9d5e0d2b2ca894813b1f756d568eccf1094856d8f58188459e7de96de838a"
  }
 },
 "nbformat": 4,
 "nbformat_minor": 5
}